{
  "nbformat": 4,
  "nbformat_minor": 0,
  "metadata": {
    "colab": {
      "name": "RELION-motion-correction.ipynb",
      "provenance": [],
      "collapsed_sections": [],
      "authorship_tag": "ABX9TyPz8fFlbzIyglbvsNizpaIs",
      "include_colab_link": true
    },
    "kernelspec": {
      "name": "python3",
      "display_name": "Python 3"
    }
  },
  "cells": [
    {
      "cell_type": "markdown",
      "metadata": {
        "id": "view-in-github",
        "colab_type": "text"
      },
      "source": [
        "<a href=\"https://colab.research.google.com/github/mcianfrocco/RELION-colab/blob/main/RELION_motion_correction.ipynb\" target=\"_parent\"><img src=\"https://colab.research.google.com/assets/colab-badge.svg\" alt=\"Open In Colab\"/></a>"
      ]
    },
    {
      "cell_type": "markdown",
      "metadata": {
        "id": "rKxQgYs4XnjB"
      },
      "source": [
        "# CryoEM processing: Motion correction\n",
        "Welcome to an interactive notebook to introduce motion correction. Here you will be able to: \n",
        "\n",
        "1.   Upload cryoEM movies and perform motion correction using RELION\n",
        "2.   Adjust parameters in motion correction to observe how it affects the resulting aligned micrograph.\n"
      ]
    },
    {
      "cell_type": "markdown",
      "metadata": {
        "id": "3rhFNNp25iwt"
      },
      "source": [
        "# Install RELION\n",
        "The first step needed to run this RELION colab notebook is to compile RELION from source code. By clicking the 'Play' button below, the notebook will:\n",
        "\n",
        "1.   Install  the appropriate dependencies\n",
        "2.   Clone RELION code from GitHub repo \n",
        "3.   Compile RELION \n",
        "\n",
        "This will take ~5 minutes."
      ]
    },
    {
      "cell_type": "code",
      "metadata": {
        "id": "NoBGM21LmABS",
        "cellView": "form"
      },
      "source": [
        "#@title *Run this cell to set up the software environment*\n",
        "%%shell\n",
        "sudo apt install cmake git build-essential mpi-default-bin mpi-default-dev libfftw3-dev libtiff-dev\n",
        "rm -rf relion/\n",
        "git clone https://github.com/3dem/relion.git\n",
        "cd relion/\n",
        "mkdir build/\n",
        "cd build\n",
        "cmake ..\n",
        "make -j5\n",
        "pip install mrcfile"
      ],
      "execution_count": null,
      "outputs": []
    },
    {
      "cell_type": "markdown",
      "metadata": {
        "id": "didy0on1_KBM"
      },
      "source": [
        "# Load movie data\n",
        "Select movie for motion correction. \n",
        "\n",
        "### Option 1: Upload movie & gain reference using Google Drive"
      ]
    },
    {
      "cell_type": "code",
      "metadata": {
        "id": "-XZsy4eUMukp",
        "cellView": "form"
      },
      "source": [
        "#@title *Run this cell to connect your Google Drive account*\n",
        "from google.colab import files\n",
        "from google.colab import drive\n",
        "import os\n",
        "drive.mount('/content/drive')"
      ],
      "execution_count": null,
      "outputs": []
    },
    {
      "cell_type": "markdown",
      "metadata": {
        "id": "AyLZF9llVokq"
      },
      "source": [
        "### Option 2: Upload movie & gain reference using web upload"
      ]
    },
    {
      "cell_type": "code",
      "metadata": {
        "cellView": "form",
        "id": "1enJO9O5PjcA"
      },
      "source": [
        "#@title *Run this cell and click \"Choose Files\" to upload your movie*\n",
        "from google.colab import files\n",
        "file = files.upload()\n",
        "for fn in file.keys(): Filename=fn\n",
        "print(\"\\n ---> your filename is \"+Filename)"
      ],
      "execution_count": null,
      "outputs": []
    },
    {
      "cell_type": "code",
      "metadata": {
        "cellView": "form",
        "id": "8S0WEptTVzHS"
      },
      "source": [
        "#@title *Run this cell and click \"Choose Files\" to upload your gain reference*\n",
        "from google.colab import files\n",
        "file = files.upload()\n",
        "for fn in file.keys(): Filename=fn\n",
        "print(\"\\n ---> your filename is \"+Filename)"
      ],
      "execution_count": null,
      "outputs": []
    },
    {
      "cell_type": "markdown",
      "metadata": {
        "id": "6DXwpcWFjPOh"
      },
      "source": [
        "# Run motion correction \n",
        "Run RELION motion correction and visualize resulting micrograph. \n",
        "\n",
        "If you connected your Google Drive account you need to enter the full path to the file, including \"/content/drive/.../your_file.tif\""
      ]
    },
    {
      "cell_type": "code",
      "metadata": {
        "cellView": "form",
        "id": "FMQE4elTvW-P"
      },
      "source": [
        "#@title Run motion correction & display aligned micrograph\n",
        "#@markdown Input parameters for motion correction\n",
        "Movie = ''  #@param {type: \"string\"}\n",
        "Patch_X = 1  #@param {type: \"slider\", min: 1, max: 10}\n",
        "Patch_Y = 1  #@param {type: \"slider\", min: 1, max: 10}\n",
        "B_Factor = 1  #@param {type: \"slider\", min: 1, max: 1000}\n",
        "Group_frames = 1  #@param {type: \"slider\", min: 1, max: 10}\n",
        "#Binning_factor = 2 #@param {type: \"slider\", min: 1, max: 6}\n",
        "#@markdown Gain reference correction options\n",
        "Gain_reference_image = ''  #@param {type: \"string\"}\n",
        "Gain_rotate_angle = 0 #@param {type: \"slider\", min: 0, max: 270,step:90}\n",
        "Gain_flip = 'None' #@param [\"None\", \"Flip upside down\", \"Flip left to right\"] {allow-input: true}\n",
        "\n",
        "import subprocess\n",
        "import sys\n",
        "\n",
        "if len(Gain_reference_image) >0:\n",
        "   if Gain_reference_image.split('.')[-1] != 'mrc':\n",
        "    print(\"Error: Gain reference file must be in .mrc format\")\n",
        "    sys.exit()\n",
        "if '/content/' in Movie: \n",
        "    Movie=Movie\n",
        "else:\n",
        "    Movie='/content/'+Movie\n",
        "\n",
        "print('Running RELION motion correction using the following parameters:\\n')\n",
        "print('Movie = %s' %(Movie)) \n",
        "print('Patch X= %i' %(Patch_X))\n",
        "print('Patch Y= %i' %(Patch_Y))\n",
        "print('B-Factor = %i' %(B_Factor))\n",
        "print('Group frames = %i' %(Group_frames))\n",
        "\n",
        "Binning_factor = 1\n",
        "\n",
        "if len(Gain_reference_image)>0:\n",
        "    Gain_rot_value=0\n",
        "    if Gain_rotate_angle == 90:\n",
        "        Gain_rot_value=1\n",
        "    if Gain_rotate_angle == 180:\n",
        "        Gain_rot_value=2\n",
        "    if Gain_rotate_angle == 270:\n",
        "        Gain_rot_value=3\n",
        "    Gain_flip_value =0\n",
        "    if Gain_flip == 'Flip upside down':\n",
        "      Gain_flip_value =1\n",
        "    if Gain_flip == 'Flip left to right':\n",
        "      Gain_flip_value = 2\n",
        "    if '/content' in Gain_reference_image: \n",
        "        Gain_reference_image=Gain_reference_image\n",
        "    else: \n",
        "        Gain_reference_image='/content/'+Gain_reference_image\n",
        "    gain_ref_cmd='--gainref \"%s\" --gain_flip %i' %(Gain_reference_image,Gain_flip_value)\n",
        "    print('Gain reference image = %s' %(Gain_reference_image))\n",
        "    print('Gain flip = %s (%i)' %(Gain_flip,Gain_flip_value))\n",
        "    print('Gain rotate angle = %s (%i)' %(Gain_rotate_angle,Gain_rot_value))\n",
        "if len(Gain_reference_image) == 0: \n",
        "    gain_ref_cmd=''\n",
        "    print('No gain reference file provided')\n",
        "\n",
        "cmd='''rm -rf relion-testing \n",
        "mkdir relion-testing \n",
        "cd relion-testing/\n",
        "mkdir MotionCorr\n",
        "mkdir movies/\n",
        "cp \"%s\" movies/%s\n",
        "ls movies/ > info.txt\n",
        "/content/relion/build/bin/relion_run_motioncorr --i 'movies/*.tif' --o MotionCorr --patch_x %i --patch_y %i --group_frames %i --bfactor %i --bin_factor %i --use_own --angpix 0.66 --voltage 300 --j 2 %s ''' %(Movie,Movie.split('/')[-1],Patch_X,Patch_Y,Group_frames,B_Factor,Binning_factor,gain_ref_cmd)\n",
        "#print(cmd)\n",
        "subprocess.Popen(cmd,shell=True).wait()\n",
        "print('...finished.\\n')\n",
        "#Import python library to read MRC files: mrcfile\n",
        "import mrcfile\n",
        "\n",
        "#Import python plotting software\n",
        "import matplotlib.pyplot as plt\n",
        "import matplotlib\n",
        "\n",
        "#Specify micrograph path:\n",
        "input_micrograph='/content/relion-testing/MotionCorr/movies/14sep05c_c_00003gr_00014sq_00006hl_00003es_frames_bin2.mrc'\n",
        "\n",
        "#Read micrograph into python-readable array:\n",
        "micrograph_array=mrcfile.open(input_micrograph).data\n",
        "print('Reading micrograph into NumPy array...\\n')\n",
        "\n",
        "#Print micrograph info\n",
        "print('Micrograph dimensions (X,Y): %s,%s' %(mrcfile.open(input_micrograph).data.shape[0],mrcfile.open(input_micrograph).data.shape[1]))\n",
        "print('Micrograph pixel size (reading from MRC header): %0.3fA/pix' %(mrcfile.open(input_micrograph).voxel_size['x']))\n",
        "\n",
        "#Display micrograph\n",
        "matplotlib.rcParams['figure.figsize'] = [15, 15]\n",
        "plt.imshow(micrograph_array,cmap='gray')"
      ],
      "execution_count": null,
      "outputs": []
    }
  ]
}